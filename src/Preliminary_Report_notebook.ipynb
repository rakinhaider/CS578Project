{
 "cells": [
  {
   "cell_type": "markdown",
   "metadata": {},
   "source": [
    "### CS578 Preliminary Project Report\n",
    "\n",
    "#### Authors : Kaustubh Sawant, Chowdhury Mohammad Rakin Haider, Eric Xu Han\n",
    "\n",
    "#### Project Definition\n",
    "Density functional theory (DFT) calculations are used to calculate the stability of materials and predict their existence. Unfortunately, DFT calculations are computationally expensive. Therefore, we propose to train ML methods using publicly available databases to predict the relative stability of a particular class of oxides. These are oxides consisting of two other element sans oxygen.\n",
    "\n",
    "#### Data Acquisition\n",
    "Data was acquired from the Materials Project Database. We use structural and chemical information of the compound as well of the individual element to form our feature vector. A python code was written to query the required data and tabulate it into a readable format. The stability of a compound is defined using ‘energy above hull’. If this value is below 40 meV, the compound is labelled as ‘stable’. Please find attached the code as well as the final formatted X-data and Y-labels. Each compound is identified by its chemical formula and task id.\n"
   ]
  },
  {
   "cell_type": "code",
   "execution_count": 42,
   "metadata": {
    "pycharm": {
     "is_executing": false
    }
   },
   "outputs": [
    {
     "ename": "ModuleNotFoundError",
     "evalue": "No module named 'pymatgen'",
     "output_type": "error",
     "traceback": [
      "\u001b[1;31m---------------------------------------------------------------------------\u001b[0m",
      "\u001b[1;31mModuleNotFoundError\u001b[0m                       Traceback (most recent call last)",
      "\u001b[1;32mD:\\Courses\\2020Spring\\CS578StatisticalMachineLearning\\Project\\CS578Project\\data_acquisition\\Data_from_pymatgen.py\u001b[0m in \u001b[0;36m<module>\u001b[1;34m\u001b[0m\n\u001b[0;32m      2\u001b[0m \u001b[1;31m# coding: utf-8\u001b[0m\u001b[1;33m\u001b[0m\u001b[1;33m\u001b[0m\u001b[1;33m\u001b[0m\u001b[0m\n\u001b[0;32m      3\u001b[0m \u001b[1;33m\u001b[0m\u001b[0m\n\u001b[1;32m----> 4\u001b[1;33m \u001b[1;32mfrom\u001b[0m \u001b[0mpymatgen\u001b[0m \u001b[1;32mimport\u001b[0m \u001b[0mMPRester\u001b[0m\u001b[1;33m\u001b[0m\u001b[1;33m\u001b[0m\u001b[0m\n\u001b[0m\u001b[0;32m      5\u001b[0m \u001b[1;32mimport\u001b[0m \u001b[0mpandas\u001b[0m \u001b[1;32mas\u001b[0m \u001b[0mpd\u001b[0m\u001b[1;33m\u001b[0m\u001b[1;33m\u001b[0m\u001b[0m\n\u001b[0;32m      6\u001b[0m \u001b[1;32mfrom\u001b[0m \u001b[0mase\u001b[0m\u001b[1;33m.\u001b[0m\u001b[0mdata\u001b[0m \u001b[1;32mimport\u001b[0m \u001b[0matomic_numbers\u001b[0m\u001b[1;33m,\u001b[0m \u001b[0mchemical_symbols\u001b[0m\u001b[1;33m\u001b[0m\u001b[1;33m\u001b[0m\u001b[0m\n",
      "\u001b[1;31mModuleNotFoundError\u001b[0m: No module named 'pymatgen'"
     ]
    }
   ],
   "source": [
    "%run -i data_acquisition\\Data_from_pymatgen"
   ]
  },
  {
   "cell_type": "markdown",
   "metadata": {},
   "source": [
    "#### Machine Learning Algorithms\n",
    "\n",
    "We have 21016 datapoints with 17 features. Our preferred classification algorithms are SVM, Naïve Bayes and Logistic Regression. We have already implemented the algorithms using scikitlearn. PFA src/utils.py which contains the code for the same."
   ]
  },
  {
   "cell_type": "code",
   "execution_count": 40,
   "metadata": {
    "pycharm": {
     "is_executing": false
    }
   },
   "outputs": [],
   "source": [
    "#Importing necessary modules\n",
    "import pandas as pd\n",
    "from src.util import get_model, train_test_split, get_xy\n",
    "from src.main import get_best_param_combination\n",
    "import src.constants as constants\n",
    "from src.cv import k_fold_cross_validation"
   ]
  },
  {
   "cell_type": "code",
   "execution_count": 4,
   "metadata": {
    "pycharm": {
     "is_executing": false
    }
   },
   "outputs": [],
   "source": [
    "#Reading Data\n",
    "df = pd.read_excel('../X_data.xlsx', index_col=0)\n",
    "df = df.drop(columns=['task_id', 'formula'])\n",
    "y = pd.read_excel('../y_label.xlsx', index_col=0)\n",
    "df['labels'] = y[0]"
   ]
  },
  {
   "cell_type": "markdown",
   "metadata": {},
   "source": [
    "The initial data was split into 80% for training and 20% for testing"
   ]
  },
  {
   "cell_type": "code",
   "execution_count": 5,
   "metadata": {
    "pycharm": {
     "is_executing": false
    }
   },
   "outputs": [],
   "source": [
    "train, test = train_test_split(df,0.2)\n",
    "train_x, train_y = get_xy(train)"
   ]
  },
  {
   "cell_type": "markdown",
   "metadata": {},
   "source": [
    "In our implementation, the model_type of Naive Bayes, Logistic Regression and SVM are 1, 2 and 3 respectively."
   ]
  },
  {
   "cell_type": "code",
   "execution_count": 6,
   "metadata": {
    "pycharm": {
     "is_executing": false
    }
   },
   "outputs": [
    {
     "name": "stdout",
     "output_type": "stream",
     "text": [
      "model_type for Naive Bayes is 1\n",
      "model_type for Logistic Regression is 2\n",
      "model_type for SVM is 3\n"
     ]
    }
   ],
   "source": [
    "print('model_type for Naive Bayes is', constants.NAIVE_BAYES)\n",
    "print('model_type for Logistic Regression is', constants.LOG_REGRESSION)\n",
    "print('model_type for SVM is', constants.SVM)"
   ]
  },
  {
   "cell_type": "markdown",
   "metadata": {},
   "source": [
    "#### Hyper Parameters\n",
    "We have tuned several hyperparameters to find out the best combination of hyper parameters for SVM and Logistic Regression. The SVM classifier contains several hyperparameters that can be tuned. Among these hyperparameters, we have tuned the regularization parameter (λ), the kernel, and for radial basis kernel we shall tune the kernel coefficient (β). For Logistic Regression Classifier we shall tune the type of regularization used (Lasso and Ridge) and the regularization parameter (λ).\n",
    "The following dictionary holds all the possible values of each hyper-parameters. "
   ]
  },
  {
   "cell_type": "code",
   "execution_count": 7,
   "metadata": {
    "pycharm": {
     "is_executing": false
    }
   },
   "outputs": [
    {
     "data": {
      "text/plain": [
       "{2: {'regularizer': ['l2', 'l1'],\n",
       "  'reg_param': [1e-06, 0.0001, 1, 1000, 10000, 100000, 1000000]},\n",
       " 3: {'kernel': ['linear', 'rbf', 'sigmoid'],\n",
       "  'reg_param': [10000, 1000, 1, 0.0001],\n",
       "  'gamma': [2, 1, 0.5]}}"
      ]
     },
     "execution_count": 7,
     "metadata": {},
     "output_type": "execute_result"
    }
   ],
   "source": [
    "param_dict = {constants.LOG_REGRESSION: {\n",
    "    'regularizer': ['l2', 'l1'],\n",
    "    'reg_param': [.000001, 0.0001, 1, 1000, 10000, 100000, 1000000]\n",
    "    },\n",
    "    constants.SVM: {\n",
    "        'kernel': ['linear', 'rbf', 'sigmoid'],\n",
    "        'reg_param': [10000, 1000, 1, 0.0001],\n",
    "        'gamma': [2, 1, 0.5]\n",
    "    }\n",
    "}\n",
    "param_dict"
   ]
  },
  {
   "cell_type": "markdown",
   "metadata": {},
   "source": [
    "Here, reg_param for Logistic Regression and SVM corresponds to the regularization parameter (λ). Additionally, the gamma for SVM corresponds to the kernel coefficient (β). "
   ]
  },
  {
   "cell_type": "markdown",
   "metadata": {},
   "source": [
    "#### Cross Validation\n",
    "We have implemented k-fold cross validations on the training data to tune the hyperparameters. PFA the src/cv.py file, which contains the function *k_fold_cross_validation*. It takes the number of folds k, data X, labels y, and the model for which the crosss-validation needs to be performed. And returns the average accuracy and the standard deviation of the accuracies of the folds.\n",
    "\n",
    "Lets select Logistic Regression as our first algorithm with L2 regularization and regularization constant equal to 1."
   ]
  },
  {
   "cell_type": "code",
   "execution_count": 8,
   "metadata": {
    "pycharm": {
     "is_executing": false
    }
   },
   "outputs": [
    {
     "data": {
      "text/plain": [
       "LogisticRegression(C=1, class_weight=None, dual=False, fit_intercept=True,\n",
       "                   intercept_scaling=1, l1_ratio=None, max_iter=10000,\n",
       "                   multi_class='warn', n_jobs=None, penalty='l2',\n",
       "                   random_state=47, solver='lbfgs', tol=0.0001, verbose=0,\n",
       "                   warm_start=False)"
      ]
     },
     "execution_count": 8,
     "metadata": {},
     "output_type": "execute_result"
    }
   ],
   "source": [
    "model = get_model(constants.LOG_REGRESSION, regularizer='l2', reg_param=1)\n",
    "model"
   ]
  },
  {
   "cell_type": "code",
   "execution_count": 9,
   "metadata": {
    "pycharm": {
     "is_executing": false
    }
   },
   "outputs": [],
   "source": [
    "acc, std=k_fold_cross_validation(5, train_x, train_y, model) #example with 5"
   ]
  },
  {
   "cell_type": "code",
   "execution_count": 10,
   "metadata": {
    "pycharm": {
     "is_executing": false
    }
   },
   "outputs": [
    {
     "name": "stdout",
     "output_type": "stream",
     "text": [
      "Mean accuracy =  68.11\n"
     ]
    }
   ],
   "source": [
    "print('Mean accuracy = ', round(acc*100,2))"
   ]
  },
  {
   "cell_type": "markdown",
   "metadata": {},
   "source": [
    "#### Tuning hyperparameters\n",
    "We run *get_best_param_combination* to get the best parameter combination for SVM and Naive Bayes. This function takes as parameter the type of model whose hyper parameters are to be tuned and a dictionaty which conatins the hyper parameters that are to be tuned as well as a list of their possible values. The function returns a dictionary which contains the best combination of the values of the hyper parameters.\n",
    "\n",
    "In order to get the best parameter combination, we perform 10-fold cross validation for each value of each hyper parameter while keeping all the hyper parameters fixed at a default value. For each hyper parameter, a graph is also plotted using the average accuracy and standard deviations obtained from performing cross validation using each possible value. Finally, we pick the the value of the hyper parameter that results in maximum average accuracy from cross validation. "
   ]
  },
  {
   "cell_type": "markdown",
   "metadata": {},
   "source": [
    "First we declare an empty dictionary to store the best combination of hyper parameters. "
   ]
  },
  {
   "cell_type": "code",
   "execution_count": 11,
   "metadata": {
    "pycharm": {
     "is_executing": false
    }
   },
   "outputs": [],
   "source": [
    "best_param = {}"
   ]
  },
  {
   "cell_type": "markdown",
   "metadata": {},
   "source": [
    "First we get the best parameter combination for Logistic Regression."
   ]
  },
  {
   "cell_type": "code",
   "execution_count": 12,
   "metadata": {
    "pycharm": {
     "is_executing": false
    }
   },
   "outputs": [
    {
     "data": {
      "image/png": "[encoded data removed]",
      "text/plain": [
       "<Figure size 432x288 with 1 Axes>"
      ]
     },
     "metadata": {
      "needs_background": "light"
     },
     "output_type": "display_data"
    },
    {
     "data": {
      "image/png": "[encoded data removed]",
      "text/plain": [
       "<Figure size 432x288 with 1 Axes>"
      ]
     },
     "metadata": {
      "needs_background": "light"
     },
     "output_type": "display_data"
    },
    {
     "data": {
      "text/plain": [
       "{'regularizer': 'l2', 'reg_param': 100000}"
      ]
     },
     "execution_count": 12,
     "metadata": {},
     "output_type": "execute_result"
    }
   ],
   "source": [
    "model_type = constants.LOG_REGRESSION\n",
    "param_comb = get_best_param_combination(train, model_type,\n",
    "                                        param_dict[model_type])\n",
    "best_param[model_type] = param_comb\n",
    "param_comb"
   ]
  },
  {
   "cell_type": "code",
   "execution_count": 17,
   "metadata": {},
   "outputs": [],
   "source": [
    "from warnings import simplefilter\n",
    "from sklearn.exceptions import ConvergenceWarning\n",
    "simplefilter(\"ignore\", category=ConvergenceWarning)\n",
    "simplefilter(action='ignore', category=FutureWarning)"
   ]
  },
  {
   "cell_type": "code",
   "execution_count": 18,
   "metadata": {
    "pycharm": {
     "is_executing": false
    }
   },
   "outputs": [
    {
     "data": {
      "image/png": "[encoded data removed]",
      "text/plain": [
       "<Figure size 432x288 with 1 Axes>"
      ]
     },
     "metadata": {
      "needs_background": "light"
     },
     "output_type": "display_data"
    },
    {
     "data": {
      "image/png": "[encoded data removed]",
      "text/plain": [
       "<Figure size 432x288 with 1 Axes>"
      ]
     },
     "metadata": {
      "needs_background": "light"
     },
     "output_type": "display_data"
    },
    {
     "data": {
      "image/png": "[encoded data removed]",
      "text/plain": [
       "<Figure size 432x288 with 1 Axes>"
      ]
     },
     "metadata": {
      "needs_background": "light"
     },
     "output_type": "display_data"
    },
    {
     "data": {
      "text/plain": [
       "{'kernel': 'rbf', 'reg_param': 1, 'gamma': 0.5}"
      ]
     },
     "execution_count": 18,
     "metadata": {},
     "output_type": "execute_result"
    }
   ],
   "source": [
    "model_type = constants.SVM\n",
    "param_comb = get_best_param_combination(train, model_type,\n",
    "                                        param_dict[model_type])\n",
    "best_param[model_type] = param_comb\n",
    "param_comb"
   ]
  },
  {
   "cell_type": "markdown",
   "metadata": {},
   "source": [
    "Finally, we get the best hyper parameter combination in best_param. The best combinations for Logistic Regression and SVM are as follows."
   ]
  },
  {
   "cell_type": "code",
   "execution_count": 19,
   "metadata": {},
   "outputs": [
    {
     "data": {
      "text/plain": [
       "{2: {'regularizer': 'l2', 'reg_param': 100000},\n",
       " 3: {'kernel': 'rbf', 'reg_param': 1, 'gamma': 0.5}}"
      ]
     },
     "execution_count": 19,
     "metadata": {},
     "output_type": "execute_result"
    }
   ],
   "source": [
    "best_param"
   ]
  },
  {
   "cell_type": "markdown",
   "metadata": {},
   "source": [
    "#### Plotting ROC Curves\n",
    "The ROC curves are plotted by varying the prediction probability threshold, obtaining sensitivity and specificty for each threshold and then plotting the specificty vs sensitivity graph for each classifier. The *plot_ROC_curve* implements these steps. We first train a model using the best hyper parameter combination obtained previously. Then for each threshold, we first obatain the prediction probabilities (using sklearn *predict_proba* method) for test data using the model. For each test sample, whose predicted probability is above the threshold we assign it label 1 and 0 otherwise. Using these predicted labels and original labels of test samples, we obtain the specificity and sensitivity. In this way we obtain the specificity and sensitivity for each threshold and then plot the specificity vs sensitivity curve which is our desired ROC curve. "
   ]
  },
  {
   "cell_type": "code",
   "execution_count": 20,
   "metadata": {},
   "outputs": [],
   "source": [
    "from src.main import plot_ROC_curve"
   ]
  },
  {
   "cell_type": "markdown",
   "metadata": {},
   "source": [
    "The following curve shows the ROC curve for Logistic Regression."
   ]
  },
  {
   "cell_type": "code",
   "execution_count": 23,
   "metadata": {},
   "outputs": [
    {
     "data": {
      "image/png": "[encoded data removed]",
      "text/plain": [
       "<Figure size 432x288 with 1 Axes>"
      ]
     },
     "metadata": {
      "needs_background": "light"
     },
     "output_type": "display_data"
    }
   ],
   "source": [
    "model_type = constants.LOG_REGRESSION\n",
    "plot_ROC_curve(train, test,\n",
    "               model_type, best_param[model_type])"
   ]
  },
  {
   "cell_type": "code",
   "execution_count": 41,
   "metadata": {
    "scrolled": true
   },
   "outputs": [
    {
     "ename": "AttributeError",
     "evalue": "predict_proba is not available when  probability=False",
     "output_type": "error",
     "traceback": [
      "\u001b[1;31m---------------------------------------------------------------------------\u001b[0m",
      "\u001b[1;31mAttributeError\u001b[0m                            Traceback (most recent call last)",
      "\u001b[1;32m<ipython-input-41-17107704b6ea>\u001b[0m in \u001b[0;36m<module>\u001b[1;34m\u001b[0m\n\u001b[0;32m      1\u001b[0m \u001b[0mmodel_type\u001b[0m \u001b[1;33m=\u001b[0m \u001b[0mconstants\u001b[0m\u001b[1;33m.\u001b[0m\u001b[0mSVM\u001b[0m\u001b[1;33m\u001b[0m\u001b[1;33m\u001b[0m\u001b[0m\n\u001b[0;32m      2\u001b[0m plot_ROC_curve(train, test,\n\u001b[1;32m----> 3\u001b[1;33m                model_type, best_param[model_type])\n\u001b[0m",
      "\u001b[1;32mD:\\Courses\\2020Spring\\CS578StatisticalMachineLearning\\Project\\CS578Project\\src\\main.py\u001b[0m in \u001b[0;36mplot_ROC_curve\u001b[1;34m(train, test, model_type, params)\u001b[0m\n\u001b[0;32m     30\u001b[0m \u001b[1;33m\u001b[0m\u001b[0m\n\u001b[0;32m     31\u001b[0m \u001b[1;33m\u001b[0m\u001b[0m\n\u001b[1;32m---> 32\u001b[1;33m \u001b[1;32mdef\u001b[0m \u001b[0mplot_ROC_curve\u001b[0m\u001b[1;33m(\u001b[0m\u001b[0mtrain\u001b[0m\u001b[1;33m,\u001b[0m \u001b[0mtest\u001b[0m\u001b[1;33m,\u001b[0m \u001b[0mmodel_type\u001b[0m\u001b[1;33m,\u001b[0m \u001b[0mparams\u001b[0m\u001b[1;33m)\u001b[0m\u001b[1;33m:\u001b[0m\u001b[1;33m\u001b[0m\u001b[1;33m\u001b[0m\u001b[0m\n\u001b[0m\u001b[0;32m     33\u001b[0m     \u001b[0mtrain_x\u001b[0m\u001b[1;33m,\u001b[0m \u001b[0mtrain_y\u001b[0m \u001b[1;33m=\u001b[0m \u001b[0mget_xy\u001b[0m\u001b[1;33m(\u001b[0m\u001b[0mtrain\u001b[0m\u001b[1;33m)\u001b[0m\u001b[1;33m\u001b[0m\u001b[1;33m\u001b[0m\u001b[0m\n\u001b[0;32m     34\u001b[0m     \u001b[0mtest_x\u001b[0m\u001b[1;33m,\u001b[0m \u001b[0mtest_y\u001b[0m \u001b[1;33m=\u001b[0m \u001b[0mget_xy\u001b[0m\u001b[1;33m(\u001b[0m\u001b[0mtest\u001b[0m\u001b[1;33m)\u001b[0m\u001b[1;33m\u001b[0m\u001b[1;33m\u001b[0m\u001b[0m\n",
      "\u001b[1;32mc:\\python37_64\\lib\\site-packages\\sklearn\\svm\\base.py\u001b[0m in \u001b[0;36mpredict_proba\u001b[1;34m(self)\u001b[0m\n\u001b[0;32m    614\u001b[0m         \u001b[0mdatasets\u001b[0m\u001b[1;33m.\u001b[0m\u001b[1;33m\u001b[0m\u001b[1;33m\u001b[0m\u001b[0m\n\u001b[0;32m    615\u001b[0m         \"\"\"\n\u001b[1;32m--> 616\u001b[1;33m         \u001b[0mself\u001b[0m\u001b[1;33m.\u001b[0m\u001b[0m_check_proba\u001b[0m\u001b[1;33m(\u001b[0m\u001b[1;33m)\u001b[0m\u001b[1;33m\u001b[0m\u001b[1;33m\u001b[0m\u001b[0m\n\u001b[0m\u001b[0;32m    617\u001b[0m         \u001b[1;32mreturn\u001b[0m \u001b[0mself\u001b[0m\u001b[1;33m.\u001b[0m\u001b[0m_predict_proba\u001b[0m\u001b[1;33m\u001b[0m\u001b[1;33m\u001b[0m\u001b[0m\n\u001b[0;32m    618\u001b[0m \u001b[1;33m\u001b[0m\u001b[0m\n",
      "\u001b[1;32mc:\\python37_64\\lib\\site-packages\\sklearn\\svm\\base.py\u001b[0m in \u001b[0;36m_check_proba\u001b[1;34m(self)\u001b[0m\n\u001b[0;32m    581\u001b[0m     \u001b[1;32mdef\u001b[0m \u001b[0m_check_proba\u001b[0m\u001b[1;33m(\u001b[0m\u001b[0mself\u001b[0m\u001b[1;33m)\u001b[0m\u001b[1;33m:\u001b[0m\u001b[1;33m\u001b[0m\u001b[1;33m\u001b[0m\u001b[0m\n\u001b[0;32m    582\u001b[0m         \u001b[1;32mif\u001b[0m \u001b[1;32mnot\u001b[0m \u001b[0mself\u001b[0m\u001b[1;33m.\u001b[0m\u001b[0mprobability\u001b[0m\u001b[1;33m:\u001b[0m\u001b[1;33m\u001b[0m\u001b[1;33m\u001b[0m\u001b[0m\n\u001b[1;32m--> 583\u001b[1;33m             raise AttributeError(\"predict_proba is not available when \"\n\u001b[0m\u001b[0;32m    584\u001b[0m                                  \" probability=False\")\n\u001b[0;32m    585\u001b[0m         \u001b[1;32mif\u001b[0m \u001b[0mself\u001b[0m\u001b[1;33m.\u001b[0m\u001b[0m_impl\u001b[0m \u001b[1;32mnot\u001b[0m \u001b[1;32min\u001b[0m \u001b[1;33m(\u001b[0m\u001b[1;34m'c_svc'\u001b[0m\u001b[1;33m,\u001b[0m \u001b[1;34m'nu_svc'\u001b[0m\u001b[1;33m)\u001b[0m\u001b[1;33m:\u001b[0m\u001b[1;33m\u001b[0m\u001b[1;33m\u001b[0m\u001b[0m\n",
      "\u001b[1;31mAttributeError\u001b[0m: predict_proba is not available when  probability=False"
     ]
    }
   ],
   "source": [
    "model_type = constants.SVM\n",
    "plot_ROC_curve(train, test,\n",
    "               model_type, best_param[model_type])"
   ]
  },
  {
   "cell_type": "code",
   "execution_count": 43,
   "metadata": {},
   "outputs": [
    {
     "name": "stdout",
     "output_type": "stream",
     "text": [
      "SVC(C=1, cache_size=200, class_weight=None, coef0=0.0,\n",
      "    decision_function_shape='ovr', degree=3, gamma='auto_deprecated',\n",
      "    kernel='rbf', max_iter=10000, probability=True, random_state=47,\n",
      "    shrinking=True, tol=0.001, verbose=False)\n",
      "Training completed\n"
     ]
    },
    {
     "ename": "NameError",
     "evalue": "name 'get_filename' is not defined",
     "output_type": "error",
     "traceback": [
      "\u001b[1;31m---------------------------------------------------------------------------\u001b[0m",
      "\u001b[1;31mNameError\u001b[0m                                 Traceback (most recent call last)",
      "\u001b[1;32m<ipython-input-43-25e791e859d7>\u001b[0m in \u001b[0;36m<module>\u001b[1;34m\u001b[0m\n\u001b[0;32m     27\u001b[0m \u001b[0mplt\u001b[0m\u001b[1;33m.\u001b[0m\u001b[0mxlabel\u001b[0m\u001b[1;33m(\u001b[0m\u001b[1;34m'Specificity'\u001b[0m\u001b[1;33m)\u001b[0m\u001b[1;33m\u001b[0m\u001b[1;33m\u001b[0m\u001b[0m\n\u001b[0;32m     28\u001b[0m \u001b[0mplt\u001b[0m\u001b[1;33m.\u001b[0m\u001b[0mylabel\u001b[0m\u001b[1;33m(\u001b[0m\u001b[1;34m'Sensitivity'\u001b[0m\u001b[1;33m)\u001b[0m\u001b[1;33m\u001b[0m\u001b[1;33m\u001b[0m\u001b[0m\n\u001b[1;32m---> 29\u001b[1;33m \u001b[0mfilename\u001b[0m \u001b[1;33m=\u001b[0m \u001b[0mget_filename\u001b[0m\u001b[1;33m(\u001b[0m\u001b[1;34m'ROC'\u001b[0m\u001b[1;33m,\u001b[0m \u001b[0mmodel_type\u001b[0m\u001b[1;33m,\u001b[0m \u001b[1;34m'pdf'\u001b[0m\u001b[1;33m)\u001b[0m\u001b[1;33m\u001b[0m\u001b[1;33m\u001b[0m\u001b[0m\n\u001b[0m\u001b[0;32m     30\u001b[0m \u001b[0mplt\u001b[0m\u001b[1;33m.\u001b[0m\u001b[0msavefig\u001b[0m\u001b[1;33m(\u001b[0m\u001b[0mfilename\u001b[0m\u001b[1;33m,\u001b[0m \u001b[0mformat\u001b[0m\u001b[1;33m=\u001b[0m\u001b[1;34m'pdf'\u001b[0m\u001b[1;33m)\u001b[0m\u001b[1;33m\u001b[0m\u001b[1;33m\u001b[0m\u001b[0m\n\u001b[0;32m     31\u001b[0m \u001b[0mplt\u001b[0m\u001b[1;33m.\u001b[0m\u001b[0mshow\u001b[0m\u001b[1;33m(\u001b[0m\u001b[1;33m)\u001b[0m\u001b[1;33m\u001b[0m\u001b[1;33m\u001b[0m\u001b[0m\n",
      "\u001b[1;31mNameError\u001b[0m: name 'get_filename' is not defined"
     ]
    },
    {
     "data": {
      "image/png": "[encoded data removed]",
      "text/plain": [
       "<Figure size 432x288 with 1 Axes>"
      ]
     },
     "metadata": {
      "needs_background": "light"
     },
     "output_type": "display_data"
    }
   ],
   "source": [
    "from sklearn.svm import SVC\n",
    "from src.util import get_confusion_mat\n",
    "import matplotlib.pyplot as plt\n",
    "train_x, train_y = get_xy(train)\n",
    "test_x, test_y = get_xy(test)\n",
    "model = SVC(C=1, kernel='rbf',\n",
    "            random_state=47, max_iter=10000,\n",
    "            probability=True)\n",
    "print(model)\n",
    "model.fit(train_x, train_y)\n",
    "\n",
    "print('Training completed')\n",
    "pred_prob = model.predict_proba(test_x)\n",
    "pred_prob = pred_prob[:, 1]\n",
    "thresholds = [0, 0.2, 0.4, 0.5, 0.6, 0.8, 1]\n",
    "specs = []\n",
    "sens = []\n",
    "for thresh in thresholds:\n",
    "    pred = [1 if i > thresh else 0 for i in pred_prob]\n",
    "    conf_mat = get_confusion_mat(test_y, pred)\n",
    "    specs.append(conf_mat.get_specificity())\n",
    "    sens.append(conf_mat.get_sensitivity())\n",
    "\n",
    "plt.clf()\n",
    "plt.plot(specs, sens)\n",
    "plt.plot([0, 1], [1, 0], '-')\n",
    "plt.xlabel('Specificity')\n",
    "plt.ylabel('Sensitivity')\n",
    "filename = get_filename('ROC', model_type, 'pdf')\n",
    "plt.savefig(filename, format='pdf')\n",
    "plt.show()"
   ]
  },
  {
   "cell_type": "markdown",
   "metadata": {},
   "source": [
    "Naive Bayes classifier calculates the probability of a sample given it belongs to a certain class. Among the classes for which the conditional probability is highest, that class in selected as the predicted class. Since Naive Bayes classifier doesn't return any probability we haven't plotted any ROC curves for this classifier."
   ]
  },
  {
   "cell_type": "markdown",
   "metadata": {},
   "source": [
    "#### Conclusions\n",
    "\n",
    "From the above result we can make two conclusions:\n",
    "<ul>\n",
    "<li>The accuracy is not very sensitive to regularization paramater (C) and the regularizer type.</li>\n",
    "<li>Among the results, C = 0.6 and reg = $L2$ give the best accuracy</li>\n",
    "</ul>"
   ]
  },
  {
   "cell_type": "code",
   "execution_count": null,
   "metadata": {
    "pycharm": {
     "is_executing": false
    }
   },
   "outputs": [],
   "source": [
    "model = get_model(constants.NAIVE_BAYES)\n",
    "model"
   ]
  },
  {
   "cell_type": "code",
   "execution_count": null,
   "metadata": {
    "pycharm": {
     "is_executing": false
    }
   },
   "outputs": [],
   "source": [
    "S,mean,std = k_fold_cross_validation(5, train_x, train_y, model)"
   ]
  },
  {
   "cell_type": "code",
   "execution_count": null,
   "metadata": {
    "pycharm": {
     "is_executing": false
    }
   },
   "outputs": [],
   "source": [
    "print('Mean accuracy = ',round(mean,2))\n",
    "pd.DataFrame(S)"
   ]
  },
  {
   "cell_type": "markdown",
   "metadata": {},
   "source": [
    "#### Future Work\n",
    "\n",
    "<ul>\n",
    "<li>Plot ROC curves for each algorithm using the confusion matrices generated.</li>\n",
    "<li>Report the best combination of hyperparameters for SVM and Logistic Regression.</li>\n",
    "<li>Test data can be further divided according to the position of the cation in the periodic table.This will help to understand whether the algorithm performs better for a particular subclass like transition metals oxides.</li>\n",
    "<li>Plot number of samples versus training and test error, to understand the bias-variance tradeoff of each kind of classifier.</li>\n",
    "</ul>"
   ]
  }
 ],
 "metadata": {
  "kernelspec": {
   "display_name": "Python 3",
   "language": "python",
   "name": "python3"
  },
  "language_info": {
   "codemirror_mode": {
    "name": "ipython",
    "version": 3
   },
   "file_extension": ".py",
   "mimetype": "text/x-python",
   "name": "python",
   "nbconvert_exporter": "python",
   "pygments_lexer": "ipython3",
   "version": "3.7.5"
  }
 },
 "nbformat": 4,
 "nbformat_minor": 2
}
